{
 "cells": [
  {
   "cell_type": "code",
   "execution_count": 2,
   "metadata": {},
   "outputs": [
    {
     "name": "stdout",
     "output_type": "stream",
     "text": [
      "Requirement already satisfied: catboost in a:\\personal projects\\ml project 1\\env\\lib\\site-packages (1.2.5)\n",
      "Requirement already satisfied: matplotlib in a:\\personal projects\\ml project 1\\env\\lib\\site-packages (from catboost) (3.9.2)\n",
      "Requirement already satisfied: scipy in a:\\personal projects\\ml project 1\\env\\lib\\site-packages (from catboost) (1.14.0)\n",
      "Requirement already satisfied: pandas>=0.24 in a:\\personal projects\\ml project 1\\env\\lib\\site-packages (from catboost) (2.2.2)\n",
      "Requirement already satisfied: numpy>=1.16.0 in a:\\personal projects\\ml project 1\\env\\lib\\site-packages (from catboost) (2.0.1)\n",
      "Requirement already satisfied: six in a:\\personal projects\\ml project 1\\env\\lib\\site-packages (from catboost) (1.16.0)\n",
      "Requirement already satisfied: graphviz in a:\\personal projects\\ml project 1\\env\\lib\\site-packages (from catboost) (0.20.3)\n",
      "Requirement already satisfied: plotly in a:\\personal projects\\ml project 1\\env\\lib\\site-packages (from catboost) (5.23.0)\n",
      "Requirement already satisfied: tzdata>=2022.7 in a:\\personal projects\\ml project 1\\env\\lib\\site-packages (from pandas>=0.24->catboost) (2024.1)\n",
      "Requirement already satisfied: pytz>=2020.1 in a:\\personal projects\\ml project 1\\env\\lib\\site-packages (from pandas>=0.24->catboost) (2024.1)\n",
      "Requirement already satisfied: python-dateutil>=2.8.2 in a:\\personal projects\\ml project 1\\env\\lib\\site-packages (from pandas>=0.24->catboost) (2.9.0.post0)\n",
      "Requirement already satisfied: kiwisolver>=1.3.1 in a:\\personal projects\\ml project 1\\env\\lib\\site-packages (from matplotlib->catboost) (1.4.5)\n",
      "Requirement already satisfied: contourpy>=1.0.1 in a:\\personal projects\\ml project 1\\env\\lib\\site-packages (from matplotlib->catboost) (1.2.1)\n",
      "Requirement already satisfied: pillow>=8 in a:\\personal projects\\ml project 1\\env\\lib\\site-packages (from matplotlib->catboost) (10.4.0)\n",
      "Requirement already satisfied: cycler>=0.10 in a:\\personal projects\\ml project 1\\env\\lib\\site-packages (from matplotlib->catboost) (0.12.1)\n",
      "Requirement already satisfied: pyparsing>=2.3.1 in a:\\personal projects\\ml project 1\\env\\lib\\site-packages (from matplotlib->catboost) (3.1.2)\n",
      "Requirement already satisfied: packaging>=20.0 in a:\\personal projects\\ml project 1\\env\\lib\\site-packages (from matplotlib->catboost) (24.1)\n",
      "Requirement already satisfied: fonttools>=4.22.0 in a:\\personal projects\\ml project 1\\env\\lib\\site-packages (from matplotlib->catboost) (4.53.1)\n",
      "Requirement already satisfied: tenacity>=6.2.0 in a:\\personal projects\\ml project 1\\env\\lib\\site-packages (from plotly->catboost) (9.0.0)\n",
      "Note: you may need to restart the kernel to use updated packages.\n"
     ]
    },
    {
     "name": "stderr",
     "output_type": "stream",
     "text": [
      "WARNING: You are using pip version 22.0.4; however, version 24.3.1 is available.\n",
      "You should consider upgrading via the 'a:\\Personal projects\\ML project 1\\env\\Scripts\\python.exe -m pip install --upgrade pip' command.\n"
     ]
    }
   ],
   "source": [
    "pip install catboost"
   ]
  },
  {
   "cell_type": "code",
   "execution_count": 7,
   "metadata": {},
   "outputs": [],
   "source": [
    "# Basic Import\n",
    "import numpy as np\n",
    "import pandas as pd\n",
    "import matplotlib.pyplot as plt\n",
    "import seaborn as sns\n",
    "# Modelling\n",
    "from sklearn.metrics import mean_squared_error, r2_score\n",
    "from sklearn.neighbors import KNeighborsRegressor\n",
    "from sklearn.tree import DecisionTreeRegressor\n",
    "from sklearn.ensemble import RandomForestRegressor,AdaBoostRegressor\n",
    "from sklearn.svm import SVR\n",
    "from sklearn.linear_model import LinearRegression, Ridge,Lasso\n",
    "from sklearn.metrics import r2_score, mean_absolute_error, mean_squared_error\n",
    "from sklearn.model_selection import RandomizedSearchCV\n",
    "# from catboost import CatBoostRegressor\n",
    "# from xgboost import XGBRegressor\n"
   ]
  }
 ],
 "metadata": {
  "kernelspec": {
   "display_name": "env",
   "language": "python",
   "name": "python3"
  },
  "language_info": {
   "codemirror_mode": {
    "name": "ipython",
    "version": 3
   },
   "file_extension": ".py",
   "mimetype": "text/x-python",
   "name": "python",
   "nbconvert_exporter": "python",
   "pygments_lexer": "ipython3",
   "version": "3.10.4"
  }
 },
 "nbformat": 4,
 "nbformat_minor": 2
}
